{
 "cells": [
  {
   "cell_type": "code",
   "execution_count": 1,
   "metadata": {
    "deletable": false,
    "editable": false
   },
   "outputs": [],
   "source": [
    "# Initialize Otter Grader\n",
    "import otter\n",
    "grader = otter.Notebook()"
   ]
  },
  {
   "cell_type": "markdown",
   "metadata": {},
   "source": [
    "# Data-X Spring 2018: Homework 02\n",
    "\n",
    "### Regression, Classification, Webscraping\n",
    "\n",
    "**Authors:** \n",
    "\n",
    "Alexander Fred-Ojala\n",
    "\n",
    "Ishaan Malhi\n",
    "\n",
    "In this homework, you will do some exercises with web-scraping."
   ]
  },
  {
   "cell_type": "markdown",
   "metadata": {},
   "source": [
    "## Fun with Webscraping & Text manipulation\n"
   ]
  },
  {
   "cell_type": "markdown",
   "metadata": {
    "collapsed": true
   },
   "source": [
    "## 1. Statistics in Presidential Debates\n",
    "\n",
    "Your first task is to scrape Presidential Debates from the Commission of Presidential Debates website: http://www.debates.org/index.php?page=debate-transcripts.\n",
    "\n",
    "To do this, you are not allowed to manually look up the URLs that you need, instead you have to scrape them. The root url to be scraped is the one listed above, namely: http://www.debates.org/index.php?page=debate-transcripts\n",
    "\n",
    "\n",
    "1. By using `requests` and `BeautifulSoup` find all the links / URLs on the website that links to transcriptions of **First Presidential Debates** from the years [2012, 2008, 2004, 2000, 1996, 1988, 1984, 1976, 1960]. In total you should find 9 links / URLs tat fulfill this criteria. Print the urls.\n",
    "2. When you have a list of the URLs your task is to create a Data Frame with some statistics (see example of output below):\n",
    "    1. Scrape the title of each link and use that as the column name in your Data Frame. \n",
    "    2. Count how long the transcript of the debate is (as in the number of characters in transcription string). Feel free to include `\\` characters in your count, but remove any breakline characters, i.e. `\\n`. You will get credit if your count is +/- 10% from our result.\n",
    "    3. Count how many times the word **war** was used in the different debates. Note that you have to convert the text in a smart way (to not count the word **warranty** for example, but counting **war.**, **war!**, **war,** or **War** etc.\n",
    "    4. Also scrape the most common used word in the debate, and write how many times it was used. Note that you have to use the same strategy as in 3 in order to do this.\n",
    "    \n",
    "    Print your results. Your output for 1 column should look something similar to the result below:\n",
    "    \n",
    "    <img src='./example_output_2_1.png' width=\"500\">\n",
    "\n",
    "**Tips:**\n",
    "\n",
    "___\n",
    "\n",
    "In order to solve questions above it can be useful to work with Regular Expressions and explore methods on strings like `.strip(), .replace(), .find(), .count(), .lower()` etc. Both are very powerful tools to do string processing in Python. To count common words for example we can use a `Counter` object and a Regular expression pattern for only words.\n",
    "\n",
    "Read more about Regular Expressions here: https://docs.python.org/3/howto/regex.html"
   ]
  },
  {
   "cell_type": "code",
   "execution_count": 2,
   "metadata": {},
   "outputs": [],
   "source": [
    "## Import libraries\n",
    "import requests\n",
    "import bs4 as bs\n",
    "import pandas as pd\n",
    "from collections import Counter\n",
    "import re"
   ]
  },
  {
   "cell_type": "markdown",
   "metadata": {
    "deletable": false,
    "editable": false
   },
   "source": [
    "Q1. a) Write a command to request the data from debates.org. Store the content in the variable called `original`\n",
    "\n",
    "<!--\n",
    "BEGIN QUESTION\n",
    "name: q1a\n",
    "manual: true\n",
    "hidden: false\n",
    "points: 1\n",
    "-->\n",
    "<!-- EXPORT TO PDF -->"
   ]
  },
  {
   "cell_type": "code",
   "execution_count": 3,
   "metadata": {},
   "outputs": [],
   "source": [
    "root_url = 'http://www.debates.org/index.php?page=debate-transcripts'\n",
    "original = requests.get(root_url).content"
   ]
  },
  {
   "cell_type": "code",
   "execution_count": 4,
   "metadata": {
    "deletable": false,
    "editable": false
   },
   "outputs": [
    {
     "data": {
      "text/html": [
       "\n",
       "    \n",
       "    \n",
       "        <p>All tests passed!</p>\n",
       "    \n",
       "    "
      ],
      "text/plain": [
       "<otter.gofer.OKTestsResult at 0x7f34140bde48>"
      ]
     },
     "execution_count": 4,
     "metadata": {},
     "output_type": "execute_result"
    }
   ],
   "source": [
    "grader.check(\"q1a\")"
   ]
  },
  {
   "cell_type": "markdown",
   "metadata": {
    "deletable": false,
    "editable": false
   },
   "source": [
    "Q1 b) Use the `original` variable to create a `BeautifulSoup` object.\n",
    "\n",
    "<!--\n",
    "BEGIN QUESTION\n",
    "name: q1b\n",
    "manual: true\n",
    "hidden: false\n",
    "points: 1\n",
    "-->\n",
    "<!-- EXPORT TO PDF -->"
   ]
  },
  {
   "cell_type": "code",
   "execution_count": 5,
   "metadata": {},
   "outputs": [],
   "source": [
    "soup = bs.BeautifulSoup(original, features='html.parser')"
   ]
  },
  {
   "cell_type": "code",
   "execution_count": 6,
   "metadata": {
    "deletable": false,
    "editable": false
   },
   "outputs": [
    {
     "data": {
      "text/html": [
       "\n",
       "    \n",
       "    \n",
       "        <p>All tests passed!</p>\n",
       "    \n",
       "    "
      ],
      "text/plain": [
       "<otter.gofer.OKTestsResult at 0x7f34135e4a20>"
      ]
     },
     "execution_count": 6,
     "metadata": {},
     "output_type": "execute_result"
    }
   ],
   "source": [
    "grader.check(\"q1b\")"
   ]
  },
  {
   "cell_type": "code",
   "execution_count": 7,
   "metadata": {},
   "outputs": [
    {
     "data": {
      "text/plain": [
       "<bound method Tag.prettify of <!DOCTYPE html PUBLIC \"-//W3C//DTD HTML 4.01 Transitional//EN\">\n",
       "\n",
       "<html>\n",
       "<head>\n",
       "<meta content=\"en-us\" http-equiv=\"Content-Language\"/>\n",
       "<meta content=\"text/html;charset=utf-8\" http-equiv=\"Content-Type\"/>\n",
       "<title>CPD: Debate Transcripts</title>\n",
       "<link href=\"/wp-content/themes/debates2019/css/reset.css\" rel=\"stylesheet\" type=\"text/css\"/>\n",
       "<link href=\"/wp-content/themes/debates2019/css/jc-main.css\" media=\"screen,projection\" rel=\"stylesheet\" type=\"text/css\"/>\n",
       "<link href=\"/wp-content/themes/debates2019/css/fonts.css\" media=\"screen,projection\" rel=\"stylesheet\" type=\"text/css\"/>\n",
       "<!--[if gte IE 5]>\n",
       "        <link href=\"/wp-content/themes/debates2019/css/jc-iemain.css\" rel=\"stylesheet\" type=\"text/css\" media=\"screen,projection\"  />\n",
       "        <![endif]-->\n",
       "<link href=\"/wp-content/themes/debates2019/css/styles.css\" media=\"screen\" rel=\"stylesheet\" type=\"text/css\"/>\n",
       "<style>\n",
       ".page-item-44 .children {\n",
       "    display: none;\n",
       "}\n",
       "</style>\n",
       "</head>\n",
       "<body>\n",
       "<div id=\"wrapper\">\n",
       "<div id=\"header\">\n",
       "</div>\n",
       "<div id=\"menubar\">\n",
       "<a class=\"\" href=\"/\" id=\"tm-1\">Home</a>\n",
       "<a class=\"\" href=\"/about-cpd/\" id=\"tm-2\">About CPD</a>\n",
       "<a class=\"\" href=\"/debate-history/\" id=\"tm-3\">Debate History</a>\n",
       "<a class=\"\" href=\"/news/\" id=\"tm-4\">News</a>\n",
       "<a class=\"current\" href=\"/voter-education/\" id=\"tm-5\">Voter Education</a>\n",
       "<a class=\"\" href=\"/international/\" id=\"tm-6\">International</a>\n",
       "<a class=\"\" href=\"/media/\" id=\"tm-11\">Media</a>\n",
       "</div>\n",
       "<div id=\"searchbar\">\n",
       "</div>\n",
       "<div id=\"printf\">\n",
       "</div>\n",
       "<div style=\"clear: both;\"></div>\n",
       "<div id=\"contentwrapper\">\n",
       "<div id=\"leftmenu\">\n",
       "<span class=\"lmtop\">In This Section</span>\n",
       "<hr/>\n",
       "<ul class=\"arrow1\">\n",
       "<li class=\"page_item page-item-36\"><a href=\"/voter-education/guide-to-hosting-your-own-debate/\">Guide to Hosting Your Own Debate</a></li>\n",
       "<li class=\"page_item page-item-37\"><a href=\"/voter-education/debatewatch-overview/\">Host a DebateWatch</a></li>\n",
       "<li class=\"page_item page-item-42\"><a href=\"/voter-education/debate-videos/\">Debate Videos</a></li>\n",
       "<li class=\"page_item page-item-44 page_item_has_children current_page_item\"><a aria-current=\"page\" href=\"/voter-education/debate-transcripts/\">Debate Transcripts</a>\n",
       "<ul class=\"children\">\n",
       "<li class=\"page_item page-item-98\"><a href=\"/voter-education/debate-transcripts/october-19-2016-debate-transcript/\">October 19, 2016 Debate Transcript</a></li>\n",
       "<li class=\"page_item page-item-99\"><a href=\"/voter-education/debate-transcripts/october-9-2016-debate-transcript/\">October 9, 2016 Debate Transcript</a></li>\n",
       "<li class=\"page_item page-item-100\"><a href=\"/voter-education/debate-transcripts/october-4-2016-debate-transcript/\">October 4, 2016 Debate Transcript</a></li>\n",
       "<li class=\"page_item page-item-101\"><a href=\"/voter-education/debate-transcripts/september-26-2016-debate-transcript/\">September 26, 2016 Debate Transcript</a></li>\n",
       "<li class=\"page_item page-item-102\"><a href=\"/voter-education/debate-transcripts/october-22-2012-the-third-obama-romney-presidential-debate/\">October 22, 2012 Debate Transcript</a></li>\n",
       "<li class=\"page_item page-item-103\"><a href=\"/voter-education/debate-transcripts/october-16-2012-the-second-obama-romney-presidential-debate/\">October 16, 2012 Debate Transcript</a></li>\n",
       "<li class=\"page_item page-item-104\"><a href=\"/voter-education/debate-transcripts/october-11-2012-the-biden-romney-vice-presidential-debate/\">October 11, 2012 Debate Transcript</a></li>\n",
       "<li class=\"page_item page-item-105\"><a href=\"/voter-education/debate-transcripts/october-3-2012-debate-transcript/\">October 3, 2012 Debate Transcript</a></li>\n",
       "<li class=\"page_item page-item-106\"><a href=\"/voter-education/debate-transcripts/2008-debate-transcript/\">September 26, 2008 Debate Transcript</a></li>\n",
       "<li class=\"page_item page-item-107\"><a href=\"/voter-education/debate-transcripts/2008-debate-transcript-2/\">October 2, 2008 Debate Transcript</a></li>\n",
       "<li class=\"page_item page-item-108\"><a href=\"/voter-education/debate-transcripts/october-7-2008-debate-transcrip/\">October 7, 2008 Debate Transcript</a></li>\n",
       "<li class=\"page_item page-item-109\"><a href=\"/voter-education/debate-transcripts/october-15-2008-debate-transcript/\">October 15, 2008 Debate Transcript</a></li>\n",
       "<li class=\"page_item page-item-110\"><a href=\"/voter-education/debate-transcripts/october-13-2004-debate-transcript/\">October 13, 2004 Debate Transcript</a></li>\n",
       "<li class=\"page_item page-item-111\"><a href=\"/voter-education/debate-transcripts/october-8-2004-debate-transcript/\">October 8, 2004 Debate Transcript</a></li>\n",
       "<li class=\"page_item page-item-112\"><a href=\"/voter-education/debate-transcripts/october-5-2004-transcript/\">October 5, 2004 Transcript</a></li>\n",
       "<li class=\"page_item page-item-113\"><a href=\"/voter-education/debate-transcripts/september-30-2004-debate-transcript/\">September 30, 2004 Debate Transcript</a></li>\n",
       "<li class=\"page_item page-item-117\"><a href=\"/voter-education/debate-transcripts/october-17-2000-debate-transcript/\">October 17, 2000 Debate Transcript</a></li>\n",
       "<li class=\"page_item page-item-116\"><a href=\"/voter-education/debate-transcripts/october-11-2000-debate-transcript/\">October 11, 2000 Debate Transcript</a></li>\n",
       "<li class=\"page_item page-item-115\"><a href=\"/voter-education/debate-transcripts/october-5-2000-debate-transcript/\">October 5, 2000 Debate Transcript</a></li>\n",
       "<li class=\"page_item page-item-114\"><a href=\"/voter-education/debate-transcripts/october-3-2000-transcript/\">October 3, 2000 Transcript</a></li>\n",
       "<li class=\"page_item page-item-120\"><a href=\"/voter-education/debate-transcripts/october-16-1996-debate-transcript/\">October 16, 1996 Debate Transcript</a></li>\n",
       "<li class=\"page_item page-item-119\"><a href=\"/voter-education/debate-transcripts/october-9-1996-debate-transcript/\">October 9, 1996 Debate Transcript</a></li>\n",
       "<li class=\"page_item page-item-118\"><a href=\"/voter-education/debate-transcripts/october-6-1996-debate-transcript/\">October 6, 1996 Debate Transcript</a></li>\n",
       "<li class=\"page_item page-item-126\"><a href=\"/voter-education/debate-transcripts/october-19-1992-debate-transcript/\">October 19, 1992 Debate Transcript</a></li>\n",
       "<li class=\"page_item page-item-124\"><a href=\"/voter-education/debate-transcripts/october-15-1992-first-half-debate-transcript/\">October 15, 1992 First Half Debate Transcript</a></li>\n",
       "<li class=\"page_item page-item-125\"><a href=\"/voter-education/debate-transcripts/october-15-1992-second-half-debate-transcript/\">October 15, 1992 Second Half Debate Transcript</a></li>\n",
       "<li class=\"page_item page-item-123\"><a href=\"/voter-education/debate-transcripts/october-13-1992-debate-transcript/\">October 13, 1992 Debate Transcript</a></li>\n",
       "<li class=\"page_item page-item-121\"><a href=\"/voter-education/debate-transcripts/october-11-1992-first-half-debate-transcript/\">October 11, 1992 First Half Debate Transcript</a></li>\n",
       "<li class=\"page_item page-item-122\"><a href=\"/voter-education/debate-transcripts/october-11-1992-second-half-debate-transcript/\">October 11, 1992 Second Half Debate Transcript</a></li>\n",
       "<li class=\"page_item page-item-129\"><a href=\"/voter-education/debate-transcripts/october-13-1988-debate-transcript/\">October 13, 1988 Debate Transcript</a></li>\n",
       "<li class=\"page_item page-item-128\"><a href=\"/voter-education/debate-transcripts/october-5-1988-debate-transcripts/\">October 5, 1988 Debate Transcripts</a></li>\n",
       "<li class=\"page_item page-item-127\"><a href=\"/voter-education/debate-transcripts/september-25-1988-debate-transcript/\">September 25, 1988 Debate Transcript</a></li>\n",
       "<li class=\"page_item page-item-132\"><a href=\"/voter-education/debate-transcripts/october-21-1984-debate-transcript/\">October 21, 1984 Debate Transcript</a></li>\n",
       "<li class=\"page_item page-item-131\"><a href=\"/voter-education/debate-transcripts/october-11-1984-debate-transcript/\">October 11, 1984 Debate Transcript</a></li>\n",
       "<li class=\"page_item page-item-130\"><a href=\"/voter-education/debate-transcripts/october-7-1984-debate-transcript/\">October 7, 1984 Debate Transcript</a></li>\n",
       "<li class=\"page_item page-item-134\"><a href=\"/voter-education/debate-transcripts/october-28-1980-debate-transcript/\">October 28, 1980 Debate Transcript</a></li>\n",
       "<li class=\"page_item page-item-133\"><a href=\"/voter-education/debate-transcripts/september-21-1980-debate-transcript/\">September 21, 1980 Debate Transcript</a></li>\n",
       "<li class=\"page_item page-item-137\"><a href=\"/voter-education/debate-transcripts/october-22-1976-debate-transcript/\">October 22, 1976 Debate Transcript</a></li>\n",
       "<li class=\"page_item page-item-136\"><a href=\"/voter-education/debate-transcripts/october-6-1976-debate-transcript/\">October 6, 1976 Debate Transcript</a></li>\n",
       "<li class=\"page_item page-item-135\"><a href=\"/voter-education/debate-transcripts/september-23-1976-debate-transcript/\">September 23, 1976 Debate Transcript</a></li>\n",
       "<li class=\"page_item page-item-141\"><a href=\"/voter-education/debate-transcripts/october-21-1960-debate-transcript/\">October 21, 1960 Debate Transcript</a></li>\n",
       "<li class=\"page_item page-item-140\"><a href=\"/voter-education/debate-transcripts/october-13-1960-debate-transcript/\">October 13, 1960 Debate Transcript</a></li>\n",
       "<li class=\"page_item page-item-139\"><a href=\"/voter-education/debate-transcripts/october-7-1960-debate-transcript/\">October 7, 1960 Debate Transcript</a></li>\n",
       "<li class=\"page_item page-item-138\"><a href=\"/voter-education/debate-transcripts/september-26-1960-debate-transcript/\">September 26, 1960 Debate Transcript</a></li>\n",
       "<li class=\"page_item page-item-142\"><a href=\"/voter-education/debate-transcripts/2000-debate-transcripts-translations/\">Debate Transcript Translations</a></li>\n",
       "</ul>\n",
       "</li>\n",
       "<li class=\"page_item page-item-41\"><a href=\"/voter-education/citizen-resources/\">Citizen Resources</a></li>\n",
       "<li class=\"page_item page-item-46\"><a href=\"/voter-education/state-boards-of-election/\">State Boards of Election</a></li>\n",
       "<li class=\"page_item page-item-45\"><a href=\"/voter-education/tips-for-organizations-schools-or-students/\">Tips for Organizations, Schools, or Students</a></li>\n",
       "</ul>\n",
       "</div>\n",
       "<div id=\"content-sm\">\n",
       "<h1>Debate Transcripts</h1>\n",
       "<p><span class=\"graytext\"><span class=\"grayheading\">Unofficial transcripts of most presidential and vice presidential debates are available on this site.</span></span></p>\n",
       "<p> </p>\n",
       "<hr/>\n",
       "<p class=\"graytext\">2016 Transcripts</p>\n",
       "<blockquote><p><a href=\"/voter-education/debate-transcripts/september-26-2016-debate-transcript/\">September 26, 2016: The First Clinton-Trump Presidential Debate</a></p>\n",
       "<p><a href=\"/voter-education/debate-transcripts/october-4-2016-debate-transcript/\">October 4, 2016: The Kain-Pence Vice Presidential Debate</a></p>\n",
       "<p><a href=\"/voter-education/debate-transcripts/october-9-2016-debate-transcript/\">October 9, 2016: The Second Clinton-Trump Presidential Debate</a></p>\n",
       "<p><a href=\"/voter-education/debate-transcripts/october-19-2016-debate-transcript/\">October 19, 2016: The Third Clinton-Trump Presidential Debate</a></p></blockquote>\n",
       "<hr/>\n",
       "<p class=\"graytext\">2012 Transcripts</p>\n",
       "<blockquote><p><a href=\"/voter-education/debate-transcripts/october-3-2012-debate-transcript/\" title=\"October 3, 2012 Debate Transcript\">October 3, 2012: The First Obama-Romney Presidential Debate</a></p>\n",
       "<p><a href=\"/voter-education/debate-transcripts/october-11-2012-the-biden-romney-vice-presidential-debate/\">October 11, 2012: The Biden-Ryan Vice Presidential Debate</a></p>\n",
       "<p><a href=\"/voter-education/debate-transcripts/october-16-2012-the-second-obama-romney-presidential-debate/\">October 16, 2012: The Second Obama-Romney Presidential Debate</a></p>\n",
       "<p><a href=\"/voter-education/debate-transcripts/october-22-2012-the-third-obama-romney-presidential-debate/\">October 22, 2012: The Third Obama-Romney Presidential Debate</a></p></blockquote>\n",
       "<hr/>\n",
       "<p class=\"graytext\">2008 Transcripts</p>\n",
       "<blockquote><p><a href=\"/voter-education/debate-transcripts/2008-debate-transcript/\" title=\"September 26, 2008 Debate Transcript\">September 26, 2008: The First McCain-Obama Presidential Debate</a></p>\n",
       "<p><a href=\"/voter-education/debate-transcripts/2008-debate-transcript-2/\" title=\"October 2, 2008 Debate Transcript\">October 2, 2008: The Biden-Palin Vice Presidential Debate</a></p>\n",
       "<p><a href=\"/voter-education/debate-transcripts/october-7-2008-debate-transcrip/\" title=\"October 7, 2008 Debate Transcript\">October 7, 2008: The Second McCain-Obama Presidential Debate</a></p>\n",
       "<p><a href=\"/voter-education/debate-transcripts/october-15-2008-debate-transcript/\" title=\"October 15, 2008 Debate Transcript\">October 15, 2008: The Third McCain-Obama Presidential Debate</a></p></blockquote>\n",
       "<hr/>\n",
       "<p class=\"graytext\">2004 Transcripts</p>\n",
       "<blockquote><p><a href=\"/voter-education/debate-transcripts/october-13-2004-debate-transcript/\" title=\"October 13, 2004 Debate Transcript\">October 13, 2004: The Third Bush-Kerry Presidential Debate</a></p>\n",
       "<p><a href=\"/voter-education/debate-transcripts/october-8-2004-debate-transcript/\" title=\"October 8, 2004 Debate Transcript\">October 8, 2004: The Second Bush-Kerry Presidential Debate</a></p>\n",
       "<p><a href=\"/voter-education/debate-transcripts/october-5-2004-transcript/\" title=\"October 5, 2004 Transcript\">October 5, 2004: The Cheney-Edwards Vice Presidential Debate</a></p>\n",
       "<p><a href=\"/voter-education/debate-transcripts/september-30-2004-debate-transcript/\" title=\"September 30. 2004 Debate Transcript\">September 30, 2004: The First Bush-Kerry Presidential Debate</a></p></blockquote>\n",
       "<hr/>\n",
       "<p class=\"graytext\">2000 Transcripts</p>\n",
       "<blockquote><p><a href=\"/voter-education/debate-transcripts/october-3-2000-transcript/\" title=\"October 3, 2000 Transcript\">October 3, 2000: The First Gore-Bush Presidential Debate</a></p>\n",
       "<p><a href=\"/voter-education/debate-transcripts/october-5-2000-debate-transcript/\" title=\"October 5, 2000 Debate Transcript\">October 5, 2000: The Lieberman-Cheney Vice Presidential Debate</a></p>\n",
       "<p><a href=\"/voter-education/debate-transcripts/october-11-2000-debate-transcript/\" title=\"October 11, 2000 Debate Transcript\">October 11, 2000: The Second Gore-Bush Presidential Debate</a></p>\n",
       "<p><a href=\"/voter-education/debate-transcripts/october-17-2000-debate-transcript/\" title=\"October 17, 2000 Debate Transcript\">October 17, 2000: The Third Gore-Bush Presidential Debate</a></p>\n",
       "<p><a href=\"/voter-education/debate-transcripts/2000-debate-transcripts-translations/\" title=\"Debate Transcript Translations\">The 2000 Debate Transcripts: Transcripts of the debates translated into six languages</a></p></blockquote>\n",
       "<hr/>\n",
       "<p class=\"graytext\">1996 Transcripts</p>\n",
       "<blockquote><p><a href=\"/voter-education/debate-transcripts/october-6-1996-debate-transcript/\" title=\"October 6, 1996 Debate Transcript\">October 6, 1996: The First Clinton-Dole Presidential Debate</a></p>\n",
       "<p><a href=\"/voter-education/debate-transcripts/october-9-1996-debate-transcript/\" title=\"October 9, 1996 Debate Transcript\">October 9, 1996: The Gore-Kemp Vice Presidential Debate</a></p>\n",
       "<p><a href=\"/voter-education/debate-transcripts/october-16-1996-debate-transcript/\" title=\"October 16, 1996 Debate Transcript\">October 16, 1996: The Second Clinton-Dole Presidential Debate</a></p></blockquote>\n",
       "<hr/>\n",
       "<p class=\"graytext\">1992 Transcripts</p>\n",
       "<blockquote><p>October 11, 1992: The First Clinton-Bush-Perot Presidential Debate</p>\n",
       "<p><a href=\"/voter-education/debate-transcripts/october-11-1992-first-half-debate-transcript/\" title=\"October 11, 1992 First Half Debate Transcript\">First half of Debate</a><br/>\n",
       "<a href=\"/voter-education/debate-transcripts/october-11-1992-second-half-debate-transcript/\" title=\"October 11, 1992 Second Half Debate Transcript\">Second half of Debate</a></p>\n",
       "<p><a href=\"/voter-education/debate-transcripts/october-13-1992-debate-transcript/\" title=\"October 13, 1992 Debate Transcript\">October 13, 1992: The Gore-Quayle-Stockdale Vice Presidential Debate</a></p>\n",
       "<p>October 15, 1992: The Second Clinton-Bush-Perot Presidential Debate</p>\n",
       "<p><a href=\"/voter-education/debate-transcripts/october-15-1992-first-half-debate-transcript/\" title=\"October 15, 1992 First Half Debate Transcript\">First half of Debate</a><br/>\n",
       "<a href=\"/voter-education/debate-transcripts/october-15-1992-second-half-debate-transcript/\" title=\"October 15, 1992 Second Half Debate Transcript\">Second half of Debate</a></p>\n",
       "<p><a href=\"/voter-education/debate-transcripts/october-19-1992-debate-transcript/\" title=\"October 19, 1992 Debate Transcript\">October 19, 1992: The Third Clinton-Bush-Perot Presidential Debate</a></p></blockquote>\n",
       "<hr/>\n",
       "<p class=\"graytext\">1988 Transcripts</p>\n",
       "<blockquote><p><a href=\"/voter-education/debate-transcripts/september-25-1988-debate-transcript/\" title=\"September 25, 1988 Debate Transcript\">September 25, 1988: The First Bush-Dukakis Presidential Debate</a></p>\n",
       "<p><a href=\"/voter-education/debate-transcripts/october-5-1988-debate-transcripts/\" title=\"October 5, 1988 Debate Transcripts\">October 5, 1988: The Bentsen-Quayle Vice Presidential Debate</a></p>\n",
       "<p><a href=\"/voter-education/debate-transcripts/october-13-1988-debate-transcript/\" title=\"October 13, 1988 Debate Transcript\">October 13, 1988: The Second Bush-Dukakis Presidential Debate</a></p></blockquote>\n",
       "<hr/>\n",
       "<p class=\"graytext\">1984 Transcripts</p>\n",
       "<blockquote><p><a href=\"/voter-education/debate-transcripts/october-7-1984-debate-transcript/\" title=\"October 7, 1984 Debate Transcript\">October 7, 1984: The First Reagan-Mondale Presidential Debate</a></p>\n",
       "<p><a href=\"/voter-education/debate-transcripts/october-11-1984-debate-transcript/\" title=\"October 11, 1984 Debate Transcript\">October 11, 1984: The Bush-Ferraro Vice Presidential Debate</a></p>\n",
       "<p><a href=\"/voter-education/debate-transcripts/october-21-1984-debate-transcript/\" title=\"October 21, 1984 Debate Transcript\">October 21, 1984: The Second Reagan-Mondale Presidential Debate</a></p></blockquote>\n",
       "<hr/>\n",
       "<p class=\"graytext\">1980 Transcripts</p>\n",
       "<blockquote><p><a href=\"/voter-education/debate-transcripts/september-21-1980-debate-transcript/\" title=\"September 21, 1980 Debate Transcript\">September 21, 1980: The Anderson-Reagan Presidential Debate</a></p>\n",
       "<p><a href=\"/voter-education/debate-transcripts/october-28-1980-debate-transcript/\" title=\"October 28, 1980 Debate Transcript\">October 28, 1980: The Carter-Reagan Presidential Debate</a></p></blockquote>\n",
       "<hr/>\n",
       "<p class=\"graytext\">1976 Transcripts</p>\n",
       "<blockquote>\n",
       "<dl>\n",
       "<dt><a href=\"/voter-education/debate-transcripts/september-23-1976-debate-transcript/\" title=\"September 23, 1976 Debate Transcript\">September 23, 1976: The First Carter-Ford Presidential Debate</a></dt>\n",
       "<dt></dt>\n",
       "<dt><a href=\"/voter-education/debate-transcripts/october-6-1976-debate-transcript/\" title=\"October 6, 1976 Debate Transcript\">October 6, 1976: The Second Carter-Ford Presidential Debate</a></dt>\n",
       "<dt></dt>\n",
       "<dt><a href=\"/voter-education/debate-transcripts/october-22-1976-debate-transcript/\" title=\"October 22, 1976 Debate Transcript\">October 22, 1976: The Third Carter-Ford Presidential Debate</a></dt>\n",
       "</dl>\n",
       "</blockquote>\n",
       "<hr/>\n",
       "<p class=\"graytext\">1960 Transcripts</p>\n",
       "<blockquote><p><a href=\"/voter-education/debate-transcripts/september-26-1960-debate-transcript/\" title=\"September 26, 1960 Debate Transcript\">September 26, 1960: The First Kennedy-Nixon Presidential Debate</a></p>\n",
       "<p><a href=\"/voter-education/debate-transcripts/october-7-1960-debate-transcript/\" title=\"October 7, 1960 Debate Transcript\">October 7, 1960: The Second Kennedy-Nixon Presidential Debate</a></p>\n",
       "<p><a href=\"/voter-education/debate-transcripts/october-13-1960-debate-transcript/\" title=\"October 13, 1960 Debate Transcript\">October 13, 1960: The Third Kennedy-Nixon Presidential Debate</a></p>\n",
       "<p><a href=\"/voter-education/debate-transcripts/october-21-1960-debate-transcript/\" title=\"October 21, 1960 Debate Transcript\">October 21, 1960: The Fourth Kennedy-Nixon Presidential Debate</a></p></blockquote>\n",
       "<p> </p>\n",
       "</div>\n",
       "</div>\n",
       "<div style=\"clear: both\"></div>\n",
       "<div id=\"footer\">\n",
       "<p>© COPYRIGHT 2020 THE COMMISSION ON PRESIDENTIAL DEBATES. ALL RIGHTS RESERVED.</p>\n",
       "</div>\n",
       "<div id=\"bottommenu\" style=\"display:none;\">\n",
       "<a href=\"/\">Home</a>\n",
       "  |&amp;nbsp \n",
       "<a href=\"/about-cpd/\">About CPD</a>\n",
       "  |&amp;nbsp \n",
       "<a href=\"/debate-history/\">Debate History</a>\n",
       "  |&amp;nbsp \n",
       "<a href=\"/news/\">News</a>\n",
       "  |&amp;nbsp \n",
       "<a href=\"/voter-education/\">Voter Education</a>\n",
       "  |&amp;nbsp \n",
       "<a href=\"/international/\">International</a>\n",
       "  |&amp;nbsp \n",
       "<a href=\"/media/\">Media</a>\n",
       "</div>\n",
       "</div>\n",
       "</body>\n",
       "</html>\n",
       ">"
      ]
     },
     "execution_count": 7,
     "metadata": {},
     "output_type": "execute_result"
    }
   ],
   "source": [
    "## Let's look at what the scraped website looks like\n",
    "soup.prettify"
   ]
  },
  {
   "cell_type": "markdown",
   "metadata": {
    "deletable": false,
    "editable": false
   },
   "source": [
    "Q1 c) Extract all the `a` links that contain the words `First`, *except* the debates from 1992. Store the results in the array called `urls`\n",
    "\n",
    "<!--\n",
    "BEGIN QUESTION\n",
    "name: q1c\n",
    "manual: true\n",
    "hidden: false\n",
    "points: 1\n",
    "-->\n",
    "<!-- EXPORT TO PDF -->"
   ]
  },
  {
   "cell_type": "code",
   "execution_count": 8,
   "metadata": {},
   "outputs": [
    {
     "data": {
      "text/plain": [
       "['https://www.debates.org/voter-education/debate-transcripts/september-26-2016-debate-transcript/',\n",
       " 'https://www.debates.org/voter-education/debate-transcripts/october-3-2012-debate-transcript/',\n",
       " 'https://www.debates.org/voter-education/debate-transcripts/2008-debate-transcript/',\n",
       " 'https://www.debates.org/voter-education/debate-transcripts/september-30-2004-debate-transcript/',\n",
       " 'https://www.debates.org/voter-education/debate-transcripts/october-3-2000-transcript/',\n",
       " 'https://www.debates.org/voter-education/debate-transcripts/october-6-1996-debate-transcript/',\n",
       " 'https://www.debates.org/voter-education/debate-transcripts/september-25-1988-debate-transcript/',\n",
       " 'https://www.debates.org/voter-education/debate-transcripts/october-7-1984-debate-transcript/',\n",
       " 'https://www.debates.org/voter-education/debate-transcripts/september-23-1976-debate-transcript/',\n",
       " 'https://www.debates.org/voter-education/debate-transcripts/september-26-1960-debate-transcript/']"
      ]
     },
     "execution_count": 8,
     "metadata": {},
     "output_type": "execute_result"
    }
   ],
   "source": [
    "urls=[]\n",
    "for i in soup.find_all('a'):\n",
    "    # Fill this part\n",
    "        if '1992' not in str(i) and \"First\" in (str(i)):\n",
    "            urls.append(\"https://www.debates.org\"+str(i.get('href')))\n",
    "urls # print the urls"
   ]
  },
  {
   "cell_type": "code",
   "execution_count": 9,
   "metadata": {
    "deletable": false,
    "editable": false
   },
   "outputs": [
    {
     "data": {
      "text/html": [
       "\n",
       "    \n",
       "    \n",
       "        <p>All tests passed!</p>\n",
       "    \n",
       "    "
      ],
      "text/plain": [
       "<otter.gofer.OKTestsResult at 0x7f34135ed828>"
      ]
     },
     "execution_count": 9,
     "metadata": {},
     "output_type": "execute_result"
    }
   ],
   "source": [
    "grader.check(\"q1c\")"
   ]
  },
  {
   "cell_type": "markdown",
   "metadata": {
    "deletable": false,
    "editable": false
   },
   "source": [
    "Q1. d) Create an NaN valued dataframe and assign it to a variable `df0`. Set only the columns and the index for this dataframe. Your output should look similar to the result below. Note that there should be more columns in your result\n",
    "\n",
    "<img src=\"./example_output_1_d.png\">\n",
    "\n",
    "<!--\n",
    "BEGIN QUESTION\n",
    "name: q1d\n",
    "manual: true\n",
    "hidden: false\n",
    "points: 3\n",
    "-->\n",
    "<!-- EXPORT TO PDF -->"
   ]
  },
  {
   "cell_type": "code",
   "execution_count": 10,
   "metadata": {},
   "outputs": [
    {
     "name": "stdout",
     "output_type": "stream",
     "text": [
      "['September 26, 2016: The First Clinton-Trump Presidential Debate', 'October 3, 2012: The First Obama-Romney Presidential Debate', 'September 26, 2008: The First McCain-Obama Presidential Debate', 'September 30, 2004: The First Bush-Kerry Presidential Debate', 'October 3, 2000: The First Gore-Bush Presidential Debate', 'October 6, 1996: The First Clinton-Dole Presidential Debate', 'September 25, 1988: The First Bush-Dukakis Presidential Debate', 'October 7, 1984: The First Reagan-Mondale Presidential Debate', 'September 23, 1976: The First Carter-Ford Presidential Debate', 'September 26, 1960: The First Kennedy-Nixon Presidential Debate']\n"
     ]
    },
    {
     "data": {
      "text/html": [
       "<div>\n",
       "<style scoped>\n",
       "    .dataframe tbody tr th:only-of-type {\n",
       "        vertical-align: middle;\n",
       "    }\n",
       "\n",
       "    .dataframe tbody tr th {\n",
       "        vertical-align: top;\n",
       "    }\n",
       "\n",
       "    .dataframe thead th {\n",
       "        text-align: right;\n",
       "    }\n",
       "</style>\n",
       "<table border=\"1\" class=\"dataframe\">\n",
       "  <thead>\n",
       "    <tr style=\"text-align: right;\">\n",
       "      <th></th>\n",
       "      <th>September 26, 2016: The First Clinton-Trump Presidential Debate</th>\n",
       "      <th>October 3, 2012: The First Obama-Romney Presidential Debate</th>\n",
       "      <th>September 26, 2008: The First McCain-Obama Presidential Debate</th>\n",
       "      <th>September 30, 2004: The First Bush-Kerry Presidential Debate</th>\n",
       "      <th>October 3, 2000: The First Gore-Bush Presidential Debate</th>\n",
       "      <th>October 6, 1996: The First Clinton-Dole Presidential Debate</th>\n",
       "      <th>September 25, 1988: The First Bush-Dukakis Presidential Debate</th>\n",
       "      <th>October 7, 1984: The First Reagan-Mondale Presidential Debate</th>\n",
       "      <th>September 23, 1976: The First Carter-Ford Presidential Debate</th>\n",
       "      <th>September 26, 1960: The First Kennedy-Nixon Presidential Debate</th>\n",
       "    </tr>\n",
       "  </thead>\n",
       "  <tbody>\n",
       "    <tr>\n",
       "      <th>Debate char length</th>\n",
       "      <td>NaN</td>\n",
       "      <td>NaN</td>\n",
       "      <td>NaN</td>\n",
       "      <td>NaN</td>\n",
       "      <td>NaN</td>\n",
       "      <td>NaN</td>\n",
       "      <td>NaN</td>\n",
       "      <td>NaN</td>\n",
       "      <td>NaN</td>\n",
       "      <td>NaN</td>\n",
       "    </tr>\n",
       "    <tr>\n",
       "      <th>war_count</th>\n",
       "      <td>NaN</td>\n",
       "      <td>NaN</td>\n",
       "      <td>NaN</td>\n",
       "      <td>NaN</td>\n",
       "      <td>NaN</td>\n",
       "      <td>NaN</td>\n",
       "      <td>NaN</td>\n",
       "      <td>NaN</td>\n",
       "      <td>NaN</td>\n",
       "      <td>NaN</td>\n",
       "    </tr>\n",
       "    <tr>\n",
       "      <th>most_common_w</th>\n",
       "      <td>NaN</td>\n",
       "      <td>NaN</td>\n",
       "      <td>NaN</td>\n",
       "      <td>NaN</td>\n",
       "      <td>NaN</td>\n",
       "      <td>NaN</td>\n",
       "      <td>NaN</td>\n",
       "      <td>NaN</td>\n",
       "      <td>NaN</td>\n",
       "      <td>NaN</td>\n",
       "    </tr>\n",
       "    <tr>\n",
       "      <th>most_common_w_count</th>\n",
       "      <td>NaN</td>\n",
       "      <td>NaN</td>\n",
       "      <td>NaN</td>\n",
       "      <td>NaN</td>\n",
       "      <td>NaN</td>\n",
       "      <td>NaN</td>\n",
       "      <td>NaN</td>\n",
       "      <td>NaN</td>\n",
       "      <td>NaN</td>\n",
       "      <td>NaN</td>\n",
       "    </tr>\n",
       "  </tbody>\n",
       "</table>\n",
       "</div>"
      ],
      "text/plain": [
       "                    September 26, 2016: The First Clinton-Trump Presidential Debate  \\\n",
       "Debate char length                                                 NaN                \n",
       "war_count                                                          NaN                \n",
       "most_common_w                                                      NaN                \n",
       "most_common_w_count                                                NaN                \n",
       "\n",
       "                    October 3, 2012: The First Obama-Romney Presidential Debate  \\\n",
       "Debate char length                                                 NaN            \n",
       "war_count                                                          NaN            \n",
       "most_common_w                                                      NaN            \n",
       "most_common_w_count                                                NaN            \n",
       "\n",
       "                    September 26, 2008: The First McCain-Obama Presidential Debate  \\\n",
       "Debate char length                                                 NaN               \n",
       "war_count                                                          NaN               \n",
       "most_common_w                                                      NaN               \n",
       "most_common_w_count                                                NaN               \n",
       "\n",
       "                    September 30, 2004: The First Bush-Kerry Presidential Debate  \\\n",
       "Debate char length                                                 NaN             \n",
       "war_count                                                          NaN             \n",
       "most_common_w                                                      NaN             \n",
       "most_common_w_count                                                NaN             \n",
       "\n",
       "                    October 3, 2000: The First Gore-Bush Presidential Debate  \\\n",
       "Debate char length                                                 NaN         \n",
       "war_count                                                          NaN         \n",
       "most_common_w                                                      NaN         \n",
       "most_common_w_count                                                NaN         \n",
       "\n",
       "                    October 6, 1996: The First Clinton-Dole Presidential Debate  \\\n",
       "Debate char length                                                 NaN            \n",
       "war_count                                                          NaN            \n",
       "most_common_w                                                      NaN            \n",
       "most_common_w_count                                                NaN            \n",
       "\n",
       "                    September 25, 1988: The First Bush-Dukakis Presidential Debate  \\\n",
       "Debate char length                                                 NaN               \n",
       "war_count                                                          NaN               \n",
       "most_common_w                                                      NaN               \n",
       "most_common_w_count                                                NaN               \n",
       "\n",
       "                    October 7, 1984: The First Reagan-Mondale Presidential Debate  \\\n",
       "Debate char length                                                 NaN              \n",
       "war_count                                                          NaN              \n",
       "most_common_w                                                      NaN              \n",
       "most_common_w_count                                                NaN              \n",
       "\n",
       "                    September 23, 1976: The First Carter-Ford Presidential Debate  \\\n",
       "Debate char length                                                 NaN              \n",
       "war_count                                                          NaN              \n",
       "most_common_w                                                      NaN              \n",
       "most_common_w_count                                                NaN              \n",
       "\n",
       "                    September 26, 1960: The First Kennedy-Nixon Presidential Debate  \n",
       "Debate char length                                                 NaN               \n",
       "war_count                                                          NaN               \n",
       "most_common_w                                                      NaN               \n",
       "most_common_w_count                                                NaN               "
      ]
     },
     "execution_count": 10,
     "metadata": {},
     "output_type": "execute_result"
    }
   ],
   "source": [
    "\n",
    "cols = [i.contents[0] for i in soup.find_all('a') if '1992' not in str(i) and \"First\" in str(i)]\n",
    "index_values = ['Debate char length', 'war_count','most_common_w', 'most_common_w_count']\n",
    "print(cols)\n",
    "df0 = pd.DataFrame(index=index_values,columns=cols)\n",
    "df0"
   ]
  },
  {
   "cell_type": "code",
   "execution_count": 11,
   "metadata": {
    "deletable": false,
    "editable": false
   },
   "outputs": [
    {
     "data": {
      "text/html": [
       "\n",
       "    \n",
       "    \n",
       "        <p>All tests passed!</p>\n",
       "    \n",
       "    "
      ],
      "text/plain": [
       "<otter.gofer.OKTestsResult at 0x7f34135edba8>"
      ]
     },
     "execution_count": 11,
     "metadata": {},
     "output_type": "execute_result"
    }
   ],
   "source": [
    "grader.check(\"q1d\")"
   ]
  },
  {
   "cell_type": "markdown",
   "metadata": {
    "deletable": false,
    "editable": false
   },
   "source": [
    "Q1. e) Now create the dataframe by going to every link that you captured in the variable `urls`.\n",
    "\n",
    "<!--\n",
    "BEGIN QUESTION\n",
    "name: q1e\n",
    "manual: true\n",
    "hidden: false\n",
    "points: 4\n",
    "-->\n",
    "<!-- EXPORT TO PDF -->"
   ]
  },
  {
   "cell_type": "code",
   "execution_count": 12,
   "metadata": {},
   "outputs": [
    {
     "data": {
      "text/html": [
       "<div>\n",
       "<style scoped>\n",
       "    .dataframe tbody tr th:only-of-type {\n",
       "        vertical-align: middle;\n",
       "    }\n",
       "\n",
       "    .dataframe tbody tr th {\n",
       "        vertical-align: top;\n",
       "    }\n",
       "\n",
       "    .dataframe thead th {\n",
       "        text-align: right;\n",
       "    }\n",
       "</style>\n",
       "<table border=\"1\" class=\"dataframe\">\n",
       "  <thead>\n",
       "    <tr style=\"text-align: right;\">\n",
       "      <th></th>\n",
       "      <th>September 26, 2016: The First Clinton-Trump Presidential Debate</th>\n",
       "      <th>October 3, 2012: The First Obama-Romney Presidential Debate</th>\n",
       "      <th>September 26, 2008: The First McCain-Obama Presidential Debate</th>\n",
       "      <th>September 30, 2004: The First Bush-Kerry Presidential Debate</th>\n",
       "      <th>October 3, 2000: The First Gore-Bush Presidential Debate</th>\n",
       "      <th>October 6, 1996: The First Clinton-Dole Presidential Debate</th>\n",
       "      <th>September 25, 1988: The First Bush-Dukakis Presidential Debate</th>\n",
       "      <th>October 7, 1984: The First Reagan-Mondale Presidential Debate</th>\n",
       "      <th>September 23, 1976: The First Carter-Ford Presidential Debate</th>\n",
       "      <th>September 26, 1960: The First Kennedy-Nixon Presidential Debate</th>\n",
       "    </tr>\n",
       "  </thead>\n",
       "  <tbody>\n",
       "    <tr>\n",
       "      <th>Debate char length</th>\n",
       "      <td>114182</td>\n",
       "      <td>114867</td>\n",
       "      <td>209717</td>\n",
       "      <td>101653</td>\n",
       "      <td>106032</td>\n",
       "      <td>109589</td>\n",
       "      <td>103432</td>\n",
       "      <td>103158</td>\n",
       "      <td>96717</td>\n",
       "      <td>74233</td>\n",
       "    </tr>\n",
       "    <tr>\n",
       "      <th>war_count</th>\n",
       "      <td>9</td>\n",
       "      <td>2</td>\n",
       "      <td>30</td>\n",
       "      <td>47</td>\n",
       "      <td>9</td>\n",
       "      <td>9</td>\n",
       "      <td>5</td>\n",
       "      <td>2</td>\n",
       "      <td>3</td>\n",
       "      <td>1</td>\n",
       "    </tr>\n",
       "    <tr>\n",
       "      <th>most_common_w</th>\n",
       "      <td>the</td>\n",
       "      <td>the</td>\n",
       "      <td>the</td>\n",
       "      <td>the</td>\n",
       "      <td>the</td>\n",
       "      <td>the</td>\n",
       "      <td>the</td>\n",
       "      <td>the</td>\n",
       "      <td>the</td>\n",
       "      <td>the</td>\n",
       "    </tr>\n",
       "    <tr>\n",
       "      <th>most_common_w_count</th>\n",
       "      <td>592</td>\n",
       "      <td>715</td>\n",
       "      <td>1410</td>\n",
       "      <td>791</td>\n",
       "      <td>858</td>\n",
       "      <td>831</td>\n",
       "      <td>759</td>\n",
       "      <td>776</td>\n",
       "      <td>823</td>\n",
       "      <td>723</td>\n",
       "    </tr>\n",
       "  </tbody>\n",
       "</table>\n",
       "</div>"
      ],
      "text/plain": [
       "                    September 26, 2016: The First Clinton-Trump Presidential Debate  \\\n",
       "Debate char length                                              114182                \n",
       "war_count                                                            9                \n",
       "most_common_w                                                      the                \n",
       "most_common_w_count                                                592                \n",
       "\n",
       "                    October 3, 2012: The First Obama-Romney Presidential Debate  \\\n",
       "Debate char length                                              114867            \n",
       "war_count                                                            2            \n",
       "most_common_w                                                      the            \n",
       "most_common_w_count                                                715            \n",
       "\n",
       "                    September 26, 2008: The First McCain-Obama Presidential Debate  \\\n",
       "Debate char length                                              209717               \n",
       "war_count                                                           30               \n",
       "most_common_w                                                      the               \n",
       "most_common_w_count                                               1410               \n",
       "\n",
       "                    September 30, 2004: The First Bush-Kerry Presidential Debate  \\\n",
       "Debate char length                                              101653             \n",
       "war_count                                                           47             \n",
       "most_common_w                                                      the             \n",
       "most_common_w_count                                                791             \n",
       "\n",
       "                    October 3, 2000: The First Gore-Bush Presidential Debate  \\\n",
       "Debate char length                                              106032         \n",
       "war_count                                                            9         \n",
       "most_common_w                                                      the         \n",
       "most_common_w_count                                                858         \n",
       "\n",
       "                    October 6, 1996: The First Clinton-Dole Presidential Debate  \\\n",
       "Debate char length                                              109589            \n",
       "war_count                                                            9            \n",
       "most_common_w                                                      the            \n",
       "most_common_w_count                                                831            \n",
       "\n",
       "                    September 25, 1988: The First Bush-Dukakis Presidential Debate  \\\n",
       "Debate char length                                              103432               \n",
       "war_count                                                            5               \n",
       "most_common_w                                                      the               \n",
       "most_common_w_count                                                759               \n",
       "\n",
       "                    October 7, 1984: The First Reagan-Mondale Presidential Debate  \\\n",
       "Debate char length                                              103158              \n",
       "war_count                                                            2              \n",
       "most_common_w                                                      the              \n",
       "most_common_w_count                                                776              \n",
       "\n",
       "                    September 23, 1976: The First Carter-Ford Presidential Debate  \\\n",
       "Debate char length                                               96717              \n",
       "war_count                                                            3              \n",
       "most_common_w                                                      the              \n",
       "most_common_w_count                                                823              \n",
       "\n",
       "                    September 26, 1960: The First Kennedy-Nixon Presidential Debate  \n",
       "Debate char length                                               74233               \n",
       "war_count                                                            1               \n",
       "most_common_w                                                      the               \n",
       "most_common_w_count                                                723               "
      ]
     },
     "execution_count": 12,
     "metadata": {},
     "output_type": "execute_result"
    }
   ],
   "source": [
    "for idx, url in enumerate(urls):\n",
    "    debate = requests.get(url)\n",
    "    df0[cols[idx]][0] = len(debate.text)\n",
    "    df0[cols[idx]][1] = debate.text.lower().split(\" \").count('war')\n",
    "    df0[cols[idx]][2]= Counter(debate.text.split(\" \")).most_common(1)[0][0]\n",
    "    df0[cols[idx]][3] = Counter(debate.text.split(\" \")).most_common(1)[0][1]\n",
    "\n",
    "## Print df\n",
    "df0"
   ]
  },
  {
   "cell_type": "code",
   "execution_count": 13,
   "metadata": {
    "deletable": false,
    "editable": false
   },
   "outputs": [
    {
     "data": {
      "text/html": [
       "\n",
       "    \n",
       "    \n",
       "        <p>All tests passed!</p>\n",
       "    \n",
       "    "
      ],
      "text/plain": [
       "<otter.gofer.OKTestsResult at 0x7f34135ed748>"
      ]
     },
     "execution_count": 13,
     "metadata": {},
     "output_type": "execute_result"
    }
   ],
   "source": [
    "grader.check(\"q1e\")"
   ]
  },
  {
   "cell_type": "markdown",
   "metadata": {},
   "source": [
    "    \n",
    "## 2. Download and read in specific line from many data sets\n",
    "\n",
    "Scrape the first 27 data sets from this URL http://people.sc.fsu.edu/~jburkardt/datasets/regression/ (i.e.`x01.txt` - `x27.txt`). Then, save the 5th line in each data set, this should be the name of the data set author (get rid of the `#` symbol, the white spaces and the comma at the end). \n",
    "\n",
    "Count how many times (with a Python function) each author is the reference for one of the 27 data sets. Showcase your results, sorted, with the most common author name first and how many times he appeared in data sets. Use a Pandas DataFrame to show your results, see example.\n",
    "Print your results.\n",
    "\n",
    "**Example output of the answer to Question 2:**\n",
    "\n",
    "![author_stats](https://github.com/ikhlaqsidhu/data-x/raw/master/x-archive/misc/hw2_imgs_spring2018/data_authors.png)"
   ]
  },
  {
   "cell_type": "code",
   "execution_count": 14,
   "metadata": {},
   "outputs": [],
   "source": [
    "data_names = list()\n",
    "# Create a list of filenames\n",
    "for i in range(1,28):\n",
    "    data_names.append('x'+str(i).zfill(2)+'.txt')"
   ]
  },
  {
   "cell_type": "code",
   "execution_count": 15,
   "metadata": {},
   "outputs": [
    {
     "data": {
      "text/plain": [
       "['x01.txt',\n",
       " 'x02.txt',\n",
       " 'x03.txt',\n",
       " 'x04.txt',\n",
       " 'x05.txt',\n",
       " 'x06.txt',\n",
       " 'x07.txt',\n",
       " 'x08.txt',\n",
       " 'x09.txt',\n",
       " 'x10.txt',\n",
       " 'x11.txt',\n",
       " 'x12.txt',\n",
       " 'x13.txt',\n",
       " 'x14.txt',\n",
       " 'x15.txt',\n",
       " 'x16.txt',\n",
       " 'x17.txt',\n",
       " 'x18.txt',\n",
       " 'x19.txt',\n",
       " 'x20.txt',\n",
       " 'x21.txt',\n",
       " 'x22.txt',\n",
       " 'x23.txt',\n",
       " 'x24.txt',\n",
       " 'x25.txt',\n",
       " 'x26.txt',\n",
       " 'x27.txt']"
      ]
     },
     "execution_count": 15,
     "metadata": {},
     "output_type": "execute_result"
    }
   ],
   "source": [
    "data_names"
   ]
  },
  {
   "cell_type": "markdown",
   "metadata": {
    "deletable": false,
    "editable": false
   },
   "source": [
    "Q2. a) Now that we have the filenames, scrape and pick the *5th line* in each data set.\n",
    "\n",
    "<!--\n",
    "BEGIN QUESTION\n",
    "name: q2a\n",
    "manual: true\n",
    "hidden: false\n",
    "points: 1\n",
    "-->\n",
    "<!-- EXPORT TO PDF -->"
   ]
  },
  {
   "cell_type": "code",
   "execution_count": 16,
   "metadata": {},
   "outputs": [
    {
     "name": "stdout",
     "output_type": "stream",
     "text": [
      "{'Helmut Spaeth': 16, 'R J Freund and P D Minton': 2, 'D G Kleinbaum and L L Kupper': 2, 'K A Brownlee': 1, 'S Chatterjee and B Price': 1, 'S Chatterjee': 3, 'B Price': 3, 'S C Narula': 2, 'J F Wellington': 2}\n"
     ]
    }
   ],
   "source": [
    "count = dict()\n",
    "\n",
    "for n in data_names:\n",
    "    content =  requests.get('http://people.sc.fsu.edu/~jburkardt/datasets/regression/'+n).content\n",
    "    soup = bs.BeautifulSoup(content,features='lxml')\n",
    "    name = soup.text.split('\\n')[4].split('#')[1].split(',')\n",
    "    for a in name:\n",
    "        a = a.strip()\n",
    "        if a != '':\n",
    "            if a in count:\n",
    "                count[a] += 1\n",
    "            else:\n",
    "                count[a] = 1\n",
    "print(count)"
   ]
  },
  {
   "cell_type": "code",
   "execution_count": 17,
   "metadata": {
    "deletable": false,
    "editable": false
   },
   "outputs": [
    {
     "data": {
      "text/html": [
       "\n",
       "    \n",
       "    \n",
       "        <p>All tests passed!</p>\n",
       "    \n",
       "    "
      ],
      "text/plain": [
       "<otter.gofer.OKTestsResult at 0x7f341356e358>"
      ]
     },
     "execution_count": 17,
     "metadata": {},
     "output_type": "execute_result"
    }
   ],
   "source": [
    "grader.check(\"q2a\")"
   ]
  },
  {
   "cell_type": "markdown",
   "metadata": {
    "deletable": false,
    "editable": false
   },
   "source": [
    "Q2. b) Create a dataframe with this variable `count`.\n",
    "\n",
    "<!--\n",
    "BEGIN QUESTION\n",
    "name: q2b\n",
    "manual: true\n",
    "hidden: false\n",
    "points: 1\n",
    "-->\n",
    "<!-- EXPORT TO PDF -->"
   ]
  },
  {
   "cell_type": "code",
   "execution_count": 18,
   "metadata": {},
   "outputs": [
    {
     "data": {
      "text/html": [
       "<div>\n",
       "<style scoped>\n",
       "    .dataframe tbody tr th:only-of-type {\n",
       "        vertical-align: middle;\n",
       "    }\n",
       "\n",
       "    .dataframe tbody tr th {\n",
       "        vertical-align: top;\n",
       "    }\n",
       "\n",
       "    .dataframe thead th {\n",
       "        text-align: right;\n",
       "    }\n",
       "</style>\n",
       "<table border=\"1\" class=\"dataframe\">\n",
       "  <thead>\n",
       "    <tr style=\"text-align: right;\">\n",
       "      <th></th>\n",
       "      <th>Count</th>\n",
       "    </tr>\n",
       "  </thead>\n",
       "  <tbody>\n",
       "    <tr>\n",
       "      <th>Helmut Spaeth</th>\n",
       "      <td>16</td>\n",
       "    </tr>\n",
       "    <tr>\n",
       "      <th>R J Freund and P D Minton</th>\n",
       "      <td>2</td>\n",
       "    </tr>\n",
       "    <tr>\n",
       "      <th>D G Kleinbaum and L L Kupper</th>\n",
       "      <td>2</td>\n",
       "    </tr>\n",
       "    <tr>\n",
       "      <th>K A Brownlee</th>\n",
       "      <td>1</td>\n",
       "    </tr>\n",
       "    <tr>\n",
       "      <th>S Chatterjee and B Price</th>\n",
       "      <td>1</td>\n",
       "    </tr>\n",
       "    <tr>\n",
       "      <th>S Chatterjee</th>\n",
       "      <td>3</td>\n",
       "    </tr>\n",
       "    <tr>\n",
       "      <th>B Price</th>\n",
       "      <td>3</td>\n",
       "    </tr>\n",
       "    <tr>\n",
       "      <th>S C Narula</th>\n",
       "      <td>2</td>\n",
       "    </tr>\n",
       "    <tr>\n",
       "      <th>J F Wellington</th>\n",
       "      <td>2</td>\n",
       "    </tr>\n",
       "  </tbody>\n",
       "</table>\n",
       "</div>"
      ],
      "text/plain": [
       "                              Count\n",
       "Helmut Spaeth                    16\n",
       "R J Freund and P D Minton         2\n",
       "D G Kleinbaum and L L Kupper      2\n",
       "K A Brownlee                      1\n",
       "S Chatterjee and B Price          1\n",
       "S Chatterjee                      3\n",
       "B Price                           3\n",
       "S C Narula                        2\n",
       "J F Wellington                    2"
      ]
     },
     "execution_count": 18,
     "metadata": {},
     "output_type": "execute_result"
    }
   ],
   "source": [
    "df = pd.DataFrame(index=count.keys(),columns=['Count'])\n",
    "df['Count'] = count.values()\n",
    "df"
   ]
  },
  {
   "cell_type": "code",
   "execution_count": 19,
   "metadata": {
    "deletable": false,
    "editable": false
   },
   "outputs": [
    {
     "data": {
      "text/html": [
       "\n",
       "    \n",
       "    \n",
       "        <p>All tests passed!</p>\n",
       "    \n",
       "    "
      ],
      "text/plain": [
       "<otter.gofer.OKTestsResult at 0x7f344817cb38>"
      ]
     },
     "execution_count": 19,
     "metadata": {},
     "output_type": "execute_result"
    }
   ],
   "source": [
    "grader.check(\"q2b\")"
   ]
  },
  {
   "cell_type": "markdown",
   "metadata": {
    "deletable": false,
    "editable": false
   },
   "source": [
    "Q2. c) Set the index of this dataframe `df` to `Authors`\n",
    "<!--\n",
    "BEGIN QUESTION\n",
    "name: q2c\n",
    "manual: true\n",
    "hidden: false\n",
    "points: 1\n",
    "-->\n",
    "<!-- EXPORT TO PDF -->"
   ]
  },
  {
   "cell_type": "code",
   "execution_count": 20,
   "metadata": {},
   "outputs": [
    {
     "data": {
      "text/html": [
       "<div>\n",
       "<style scoped>\n",
       "    .dataframe tbody tr th:only-of-type {\n",
       "        vertical-align: middle;\n",
       "    }\n",
       "\n",
       "    .dataframe tbody tr th {\n",
       "        vertical-align: top;\n",
       "    }\n",
       "\n",
       "    .dataframe thead th {\n",
       "        text-align: right;\n",
       "    }\n",
       "</style>\n",
       "<table border=\"1\" class=\"dataframe\">\n",
       "  <thead>\n",
       "    <tr style=\"text-align: right;\">\n",
       "      <th></th>\n",
       "      <th>Count</th>\n",
       "    </tr>\n",
       "    <tr>\n",
       "      <th>Authors</th>\n",
       "      <th></th>\n",
       "    </tr>\n",
       "  </thead>\n",
       "  <tbody>\n",
       "    <tr>\n",
       "      <th>Helmut Spaeth</th>\n",
       "      <td>16</td>\n",
       "    </tr>\n",
       "    <tr>\n",
       "      <th>R J Freund and P D Minton</th>\n",
       "      <td>2</td>\n",
       "    </tr>\n",
       "    <tr>\n",
       "      <th>D G Kleinbaum and L L Kupper</th>\n",
       "      <td>2</td>\n",
       "    </tr>\n",
       "    <tr>\n",
       "      <th>K A Brownlee</th>\n",
       "      <td>1</td>\n",
       "    </tr>\n",
       "    <tr>\n",
       "      <th>S Chatterjee and B Price</th>\n",
       "      <td>1</td>\n",
       "    </tr>\n",
       "    <tr>\n",
       "      <th>S Chatterjee</th>\n",
       "      <td>3</td>\n",
       "    </tr>\n",
       "    <tr>\n",
       "      <th>B Price</th>\n",
       "      <td>3</td>\n",
       "    </tr>\n",
       "    <tr>\n",
       "      <th>S C Narula</th>\n",
       "      <td>2</td>\n",
       "    </tr>\n",
       "    <tr>\n",
       "      <th>J F Wellington</th>\n",
       "      <td>2</td>\n",
       "    </tr>\n",
       "  </tbody>\n",
       "</table>\n",
       "</div>"
      ],
      "text/plain": [
       "                              Count\n",
       "Authors                            \n",
       "Helmut Spaeth                    16\n",
       "R J Freund and P D Minton         2\n",
       "D G Kleinbaum and L L Kupper      2\n",
       "K A Brownlee                      1\n",
       "S Chatterjee and B Price          1\n",
       "S Chatterjee                      3\n",
       "B Price                           3\n",
       "S C Narula                        2\n",
       "J F Wellington                    2"
      ]
     },
     "execution_count": 20,
     "metadata": {},
     "output_type": "execute_result"
    }
   ],
   "source": [
    "df.index.name='Authors'\n",
    "df"
   ]
  },
  {
   "cell_type": "code",
   "execution_count": 21,
   "metadata": {
    "deletable": false,
    "editable": false
   },
   "outputs": [
    {
     "data": {
      "text/html": [
       "\n",
       "    \n",
       "    \n",
       "        <p>All tests passed!</p>\n",
       "    \n",
       "    "
      ],
      "text/plain": [
       "<otter.gofer.OKTestsResult at 0x7f3413552d68>"
      ]
     },
     "execution_count": 21,
     "metadata": {},
     "output_type": "execute_result"
    }
   ],
   "source": [
    "grader.check(\"q2c\")"
   ]
  },
  {
   "cell_type": "markdown",
   "metadata": {
    "deletable": false,
    "editable": false
   },
   "source": [
    "Q2. d) Sort the `Counts` column in descending order. Make sure your dataframe `df` is modified.\n",
    "<!--\n",
    "BEGIN QUESTION\n",
    "name: q2d\n",
    "manual: true\n",
    "hidden: false\n",
    "points: 1\n",
    "-->\n",
    "<!-- EXPORT TO PDF -->"
   ]
  },
  {
   "cell_type": "code",
   "execution_count": 22,
   "metadata": {
    "scrolled": true
   },
   "outputs": [
    {
     "data": {
      "text/html": [
       "<div>\n",
       "<style scoped>\n",
       "    .dataframe tbody tr th:only-of-type {\n",
       "        vertical-align: middle;\n",
       "    }\n",
       "\n",
       "    .dataframe tbody tr th {\n",
       "        vertical-align: top;\n",
       "    }\n",
       "\n",
       "    .dataframe thead th {\n",
       "        text-align: right;\n",
       "    }\n",
       "</style>\n",
       "<table border=\"1\" class=\"dataframe\">\n",
       "  <thead>\n",
       "    <tr style=\"text-align: right;\">\n",
       "      <th></th>\n",
       "      <th>Count</th>\n",
       "    </tr>\n",
       "    <tr>\n",
       "      <th>Authors</th>\n",
       "      <th></th>\n",
       "    </tr>\n",
       "  </thead>\n",
       "  <tbody>\n",
       "    <tr>\n",
       "      <th>Helmut Spaeth</th>\n",
       "      <td>16</td>\n",
       "    </tr>\n",
       "    <tr>\n",
       "      <th>S Chatterjee</th>\n",
       "      <td>3</td>\n",
       "    </tr>\n",
       "    <tr>\n",
       "      <th>B Price</th>\n",
       "      <td>3</td>\n",
       "    </tr>\n",
       "    <tr>\n",
       "      <th>R J Freund and P D Minton</th>\n",
       "      <td>2</td>\n",
       "    </tr>\n",
       "    <tr>\n",
       "      <th>D G Kleinbaum and L L Kupper</th>\n",
       "      <td>2</td>\n",
       "    </tr>\n",
       "    <tr>\n",
       "      <th>S C Narula</th>\n",
       "      <td>2</td>\n",
       "    </tr>\n",
       "    <tr>\n",
       "      <th>J F Wellington</th>\n",
       "      <td>2</td>\n",
       "    </tr>\n",
       "    <tr>\n",
       "      <th>K A Brownlee</th>\n",
       "      <td>1</td>\n",
       "    </tr>\n",
       "    <tr>\n",
       "      <th>S Chatterjee and B Price</th>\n",
       "      <td>1</td>\n",
       "    </tr>\n",
       "  </tbody>\n",
       "</table>\n",
       "</div>"
      ],
      "text/plain": [
       "                              Count\n",
       "Authors                            \n",
       "Helmut Spaeth                    16\n",
       "S Chatterjee                      3\n",
       "B Price                           3\n",
       "R J Freund and P D Minton         2\n",
       "D G Kleinbaum and L L Kupper      2\n",
       "S C Narula                        2\n",
       "J F Wellington                    2\n",
       "K A Brownlee                      1\n",
       "S Chatterjee and B Price          1"
      ]
     },
     "metadata": {},
     "output_type": "display_data"
    },
    {
     "name": "stdout",
     "output_type": "stream",
     "text": [
      "Index(['Helmut Spaeth', 'S Chatterjee', 'B Price', 'R J Freund and P D Minton',\n",
      "       'D G Kleinbaum and L L Kupper', 'S C Narula', 'J F Wellington',\n",
      "       'K A Brownlee', 'S Chatterjee and B Price'],\n",
      "      dtype='object', name='Authors')\n"
     ]
    }
   ],
   "source": [
    "df = df.sort_values(by='Count',ascending=False)\n",
    "display(df)\n",
    "print(df.index)"
   ]
  },
  {
   "cell_type": "code",
   "execution_count": 23,
   "metadata": {
    "deletable": false,
    "editable": false
   },
   "outputs": [
    {
     "data": {
      "text/html": [
       "\n",
       "    \n",
       "    \n",
       "        <p>All tests passed!</p>\n",
       "    \n",
       "    "
      ],
      "text/plain": [
       "<otter.gofer.OKTestsResult at 0x7f34135edd30>"
      ]
     },
     "execution_count": 23,
     "metadata": {},
     "output_type": "execute_result"
    }
   ],
   "source": [
    "grader.check(\"q2d\")"
   ]
  },
  {
   "cell_type": "markdown",
   "metadata": {
    "collapsed": true
   },
   "source": [
    "Congratulations! Please select `Kernel -> Restart and Run All` and submit this `.ipynb` file to gradescope. \n",
    "\n",
    "*Important: Please submit this notebook, not the pdf file.*"
   ]
  }
 ],
 "metadata": {
  "kernel_info": {
   "name": "data-x"
  },
  "kernelspec": {
   "display_name": "Python 3",
   "language": "python",
   "name": "python3"
  },
  "language_info": {
   "codemirror_mode": {
    "name": "ipython",
    "version": 3
   },
   "file_extension": ".py",
   "mimetype": "text/x-python",
   "name": "python",
   "nbconvert_exporter": "python",
   "pygments_lexer": "ipython3",
   "version": "3.7.4"
  },
  "nteract": {
   "version": "0.7.1"
  }
 },
 "nbformat": 4,
 "nbformat_minor": 2
}
